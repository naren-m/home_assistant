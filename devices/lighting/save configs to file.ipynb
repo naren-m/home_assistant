{
 "cells": [
  {
   "cell_type": "code",
   "execution_count": 1,
   "metadata": {
    "collapsed": true
   },
   "outputs": [],
   "source": [
    "import hue\n",
    "\n",
    "h = hue.Hue()"
   ]
  },
  {
   "cell_type": "code",
   "execution_count": 3,
   "metadata": {
    "collapsed": false
   },
   "outputs": [
    {
     "name": "stdout",
     "output_type": "stream",
     "text": [
      "(u'Living room hanging', 'is on. Turning it off') {}\n"
     ]
    }
   ],
   "source": [
    "h.toggle(2)"
   ]
  },
  {
   "cell_type": "code",
   "execution_count": 21,
   "metadata": {
    "collapsed": false
   },
   "outputs": [],
   "source": [
    "lightGroups = h.getAllGroups()\n",
    "lightsInfo  = h.getAllLights()"
   ]
  },
  {
   "cell_type": "code",
   "execution_count": 26,
   "metadata": {
    "collapsed": false
   },
   "outputs": [
    {
     "name": "stdout",
     "output_type": "stream",
     "text": [
      "{u'1': {u'name': u'Bedroom', u'lights': [u'3', u'1'], u'state': {u'any_on': False, u'all_on': False}, u'action': {u'on': False, u'hue': 34076, u'colormode': u'xy', u'effect': u'none', u'alert': u'none', u'xy': [0.3144, 0.3301], u'bri': 254, u'ct': 153, u'sat': 251}, u'type': u'Room', u'class': u'Bedroom'}, u'2': {u'name': u'Living room', u'lights': [u'4', u'5', u'2'], u'state': {u'any_on': False, u'all_on': False}, u'action': {u'on': False, u'hue': 34076, u'colormode': u'xy', u'effect': u'none', u'alert': u'none', u'xy': [0.3144, 0.3301], u'bri': 254, u'ct': 153, u'sat': 251}, u'type': u'Room', u'class': u'Living room'}}\n"
     ]
    }
   ],
   "source": [
    "import json\n",
    "with open('tmp.txt', 'w') as filename:\n",
    "    json.dump(lightsInfo, filename, indent=4)\n",
    "\n",
    "print lightGroups"
   ]
  },
  {
   "cell_type": "code",
   "execution_count": 25,
   "metadata": {
    "collapsed": false
   },
   "outputs": [
    {
     "name": "stdout",
     "output_type": "stream",
     "text": [
      "1 {u'name': u'Bedroom', u'lights': [u'3', u'1'], u'state': {u'any_on': False, u'all_on': False}, u'action': {u'on': False, u'hue': 34076, u'colormode': u'xy', u'effect': u'none', u'alert': u'none', u'xy': [0.3144, 0.3301], u'bri': 254, u'ct': 153, u'sat': 251}, u'type': u'Room', u'class': u'Bedroom'}\n",
      "2 {u'name': u'Living room', u'lights': [u'4', u'5', u'2'], u'state': {u'any_on': False, u'all_on': False}, u'action': {u'on': False, u'hue': 34076, u'colormode': u'xy', u'effect': u'none', u'alert': u'none', u'xy': [0.3144, 0.3301], u'bri': 254, u'ct': 153, u'sat': 251}, u'type': u'Room', u'class': u'Living room'}\n"
     ]
    }
   ],
   "source": [
    "for k, v in lightGroups.iteritems():\n",
    "    print k, v"
   ]
  },
  {
   "cell_type": "code",
   "execution_count": null,
   "metadata": {
    "collapsed": true
   },
   "outputs": [],
   "source": [
    "from collections import MutableMapping\n",
    "class LightGroup(MutableMapping):\n",
    "    def __init__(self):\n",
    "        pass\n",
    "    \n",
    "    def \n",
    "    "
   ]
  }
 ],
 "metadata": {
  "kernelspec": {
   "display_name": "Python 2",
   "language": "python",
   "name": "python2"
  },
  "language_info": {
   "codemirror_mode": {
    "name": "ipython",
    "version": 2
   },
   "file_extension": ".py",
   "mimetype": "text/x-python",
   "name": "python",
   "nbconvert_exporter": "python",
   "pygments_lexer": "ipython2",
   "version": "2.7.12"
  }
 },
 "nbformat": 4,
 "nbformat_minor": 0
}
